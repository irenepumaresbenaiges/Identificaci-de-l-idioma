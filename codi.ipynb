{
 "cells": [
  {
   "cell_type": "markdown",
   "metadata": {},
   "source": [
    "## PRÀCTICA 1 IDENTIFICACIÓ DE L'IDIOMA \n",
    "### Irene Pumares i Anna Casanovas"
   ]
  },
  {
   "cell_type": "code",
   "execution_count": 68,
   "metadata": {},
   "outputs": [
    {
     "name": "stdout",
     "output_type": "stream",
     "text": [
      "Requirement already satisfied: nltk in /Users/annacasanovaspoirier/Desktop/IAA-lab/.venv/lib/python3.10/site-packages (3.8.1)\n",
      "Requirement already satisfied: click in /Users/annacasanovaspoirier/Desktop/IAA-lab/.venv/lib/python3.10/site-packages (from nltk) (8.1.7)\n",
      "Requirement already satisfied: joblib in /Users/annacasanovaspoirier/Desktop/IAA-lab/.venv/lib/python3.10/site-packages (from nltk) (1.3.2)\n",
      "Requirement already satisfied: regex>=2021.8.3 in /Users/annacasanovaspoirier/Desktop/IAA-lab/.venv/lib/python3.10/site-packages (from nltk) (2023.12.25)\n",
      "Requirement already satisfied: tqdm in /Users/annacasanovaspoirier/Desktop/IAA-lab/.venv/lib/python3.10/site-packages (from nltk) (4.66.1)\n",
      "\n",
      "\u001b[1m[\u001b[0m\u001b[34;49mnotice\u001b[0m\u001b[1;39;49m]\u001b[0m\u001b[39;49m A new release of pip is available: \u001b[0m\u001b[31;49m23.3.2\u001b[0m\u001b[39;49m -> \u001b[0m\u001b[32;49m24.0\u001b[0m\n",
      "\u001b[1m[\u001b[0m\u001b[34;49mnotice\u001b[0m\u001b[1;39;49m]\u001b[0m\u001b[39;49m To update, run: \u001b[0m\u001b[32;49mpip install --upgrade pip\u001b[0m\n",
      "Note: you may need to restart the kernel to use updated packages.\n"
     ]
    }
   ],
   "source": [
    "pip install nltk"
   ]
  },
  {
   "cell_type": "markdown",
   "metadata": {},
   "source": [
    "### 1. PREPROCESSAMENT DE LES DADES TRAIN"
   ]
  },
  {
   "cell_type": "markdown",
   "metadata": {},
   "source": [
    "- Eliminació del dígits\n",
    "- Passar tot el text a minúscula\n",
    "- Substituir espais múltiples per un sol\n",
    "- Substituir salts de línea per un espai doble\n",
    "\n",
    "A més, s'ha aplicat l'eliminació de signes de puntuació ja que ajuda a la simplificació del text, reduint la seva complexitat, millorant la tokenització i eliminant soroll ja que tot i poder aparèixer amb frequència, no aporten informació substancial. "
   ]
  },
  {
   "cell_type": "code",
   "execution_count": 4,
   "metadata": {},
   "outputs": [
    {
     "name": "stdout",
     "output_type": "stream",
     "text": [
      "Processant: /Users/annacasanovaspoirier/Desktop/IAA-lab/PRÀCTICA1/deu_trn.txt\n",
      "Processant: /Users/annacasanovaspoirier/Desktop/IAA-lab/PRÀCTICA1/eng_trn.txt\n",
      "Processant: /Users/annacasanovaspoirier/Desktop/IAA-lab/PRÀCTICA1/fra_trn.txt\n",
      "Processant: /Users/annacasanovaspoirier/Desktop/IAA-lab/PRÀCTICA1/nld_trn.txt\n",
      "Processant: /Users/annacasanovaspoirier/Desktop/IAA-lab/PRÀCTICA1/ita_trn.txt\n",
      "Processant: /Users/annacasanovaspoirier/Desktop/IAA-lab/PRÀCTICA1/spa_trn.txt\n"
     ]
    }
   ],
   "source": [
    "import os\n",
    "import re\n",
    "\n",
    "def preprocess(texto): \n",
    "    '''\n",
    "    Per cada document del train, apliquem el preprocessament. \n",
    "    '''\n",
    "    texto = re.sub(r'\\d', '', texto)        # Eliminem els dígits\n",
    "    texto = texto.lower()                   # Convertim tot el text a minúscules\n",
    "    texto = re.sub(r'[^\\w\\s]', '', texto)   # Eliminem els signes de puntuació\n",
    "    texto = re.sub(r'\\s+', ' ', texto)      # Substituim espais múltiples per un de sol\n",
    "    texto = re.sub(r'\\n', '  ', texto)      # Substituim els salts de línea per un espai doble\n",
    "    return texto\n",
    "\n",
    "\n",
    "def load_and_preprocess(file_path):\n",
    "    '''\n",
    "    Funció que s'encarrega de llegir tot el text del document per preprocessar-lo. \n",
    "    '''\n",
    "    #print(file_path + \" s'està llegint\")\n",
    "    with open(file_path, 'r', encoding='utf-8') as file:\n",
    "        text = file.read()\n",
    "    #print(file_path + ' s\\'ha llegit')\n",
    "    return preprocess(text)\n",
    "\n",
    "languages = ['deu', 'eng', 'fra', 'nld', 'ita', 'spa'] # Llista de tots els llenguatges que el model sabrà identificar\n",
    "training_data = {}                                     # Diccionari on per cada idioma, té un recompte de quants cops surt cada trigrama\n",
    "text_inicial_train = {}                                # Diccionari on es guarda el text preprocessat de cada idioma\n",
    "\n",
    "ruta_absoluta = 'C:/Users/irene/OneDrive/Escriptori/Pràctica 1 PLH'\n",
    "\n",
    "#Per tots els llenguatges llegim i preprocessem les seves dades del train\n",
    "\n",
    "for lang in languages:\n",
    "    file_path = os.path.join(ruta_absoluta, f'{lang}_trn.txt')\n",
    "    print('Processant:', file_path)\n",
    "    if os.path.exists(file_path):\n",
    "        text = load_and_preprocess(file_path)\n",
    "        text_inicial_train[lang] = text\n",
    "    else:\n",
    "        print(f'L\\'archiu {file_path} no existeix.')\n",
    "\n"
   ]
  },
  {
   "cell_type": "markdown",
   "metadata": {},
   "source": [
    "### 2. CREACIÓ DEL MODEL A PARTIR DE TRIGRAMES I ENTRENAMENT"
   ]
  },
  {
   "cell_type": "markdown",
   "metadata": {},
   "source": [
    "- Fer recompte del número de trigrames de caràcters\n",
    "- Eliminació dels trigrames que apareixen menys de 5 cops\n",
    "- Aplicació de tècnica de suavitzat\n",
    "    - Llei de Laplace\n",
    "    - Llei de Lidstone (LID)\n",
    "        - Búsqueda de paràmetres i hiperparàmetres"
   ]
  },
  {
   "cell_type": "markdown",
   "metadata": {},
   "source": [
    "Tècniques de suavitzat: \n",
    "\n",
    "Llei de Lidstone: (c_wi + lambda) / (N + lambda * B)\n",
    "\n",
    "Després d'aplicar la llei de Laplace, s'ha vist que és millor fer servir la seva generalització que és la Llei de Lidstone. De la fòrmula mostrada:\n",
    "- N representa el nombre de trigrames que hi ha al corpus\n",
    "- V una aproximació del tamany del vocabulari únic en el corpus\n",
    "- Lambda és un hiperparàmetre"
   ]
  },
  {
   "cell_type": "markdown",
   "metadata": {},
   "source": [
    "V s'ha aproximat mirant el nombre de caràcters de cada idioma elevat al cub per fer totes les combinacions. Finalment, s'han obtingut millors resultats utilitzant la mitjana de tots els idiomes degut a una millor generalització. "
   ]
  },
  {
   "cell_type": "code",
   "execution_count": 5,
   "metadata": {},
   "outputs": [],
   "source": [
    "lam = [0.1,0.2,0.3,0.4,0.5,0.6,0.7,0.8,0.9,1]"
   ]
  },
  {
   "cell_type": "code",
   "execution_count": 6,
   "metadata": {},
   "outputs": [],
   "source": [
    "'''Aquí definim els possibles valors que més tard serà elevat al cub són B'''\n",
    "num_lletres = {'deu': 30, 'eng': 26, 'fra': 42, 'nld': 26, 'ita': 21, 'spa': 32}\n",
    "mitjana_num_lletres = (30+26+42+26+21+32)/6"
   ]
  },
  {
   "cell_type": "markdown",
   "metadata": {},
   "source": [
    "Recompte dels trigrames i càlcul de probabilitats"
   ]
  },
  {
   "cell_type": "code",
   "execution_count": 7,
   "metadata": {},
   "outputs": [],
   "source": [
    "from nltk.collocations import TrigramCollocationFinder\n",
    "\n",
    "def probabilitat_suavitzada(l, N, c):\n",
    "    '''\n",
    "    Calcula la probabilitat de cada trigrama amb el suavitzat de Lidstone\n",
    "    '''\n",
    "\n",
    "    p = (c + l)/((N)+(((29.5)**3)*l))\n",
    "    return p\n",
    "\n",
    "def entrenar_model(l):\n",
    "    \n",
    "    '''\n",
    "    Donada una certa lambda, la funció troba els trigrames freqüents per cada llenguatge\n",
    "    i omple un diccionari (trigrames_total) per obtenir les probabilitats per cada trigrama per cada idioma.\n",
    "    '''\n",
    "\n",
    "    languages = ['deu', 'eng', 'fra', 'nld', 'ita', 'spa']\n",
    "    num_trigrams = {}                                                           # Nombre de trigrames que hi ha en general a cada corpus \n",
    "    #num_lletres = {'deu':30, 'eng':26, 'fra':42, 'nld':26, 'ita':21, 'spa':32}\n",
    "    trigrames = {}                                                              # Per cada llengua tindrem el nombre de vegades que surt cada trigrama\n",
    "    for lang in languages:\n",
    "        finder = TrigramCollocationFinder.from_words(text_inicial_train[lang])\n",
    "        finder.apply_freq_filter(5)                                             # Eliminem els trigrames que apareixen menys de 5 vegades\n",
    "        trigrames[lang] = [tr for tr in finder.ngram_fd.items()]\n",
    "        num_trigrams[lang] = sum(finder.ngram_fd.values())                      # N la calculem després de borrar els de menys de 5 (nombre d'unigrames totals)\n",
    "\n",
    "\n",
    "    languages = ['deu', 'eng', 'fra', 'nld', 'ita', 'spa']\n",
    "    trigrames_total = {}                                                        # Dicc per guardar les probabilitats de cada trigrama al seu idioma\n",
    "    for language in languages:\n",
    "        trigrames_total[language] = {}\n",
    "        for trigram in trigrames[language]:\n",
    "            trigrames_total[language][trigram[0]] = probabilitat_suavitzada(l,num_trigrams[language],trigram[1]) # Smoothing\n",
    "\n",
    "    return l,trigrames_total,num_trigrams"
   ]
  },
  {
   "cell_type": "code",
   "execution_count": 9,
   "metadata": {},
   "outputs": [],
   "source": [
    "from nltk.collocations import TrigramCollocationFinder\n",
    "\n",
    "def preprocess_frase(texto):\n",
    "    texto = re.sub(r'\\d', '', texto)        # Elimina dígitos\n",
    "    texto = texto.lower()                   # Convierte a minúscula\n",
    "    texto = re.sub(r'[^\\w\\s]', '', texto)   # Elimina els signes de puntuació\n",
    "    texto = re.sub(r'\\s+', ' ', texto)      # Sustituye espacios múltiples por uno solo\n",
    "    return texto\n",
    "\n",
    "import math\n",
    "\n",
    "def identificar_idioma(text,l,dicc,num_trigrams): \n",
    "    '''\n",
    "    Funció que donada una frase identificarà el idioma del text basat en els trigrames.\n",
    "    '''\n",
    "    text = preprocess_frase(text)\n",
    "\n",
    "    finder = TrigramCollocationFinder.from_words(text)\n",
    "    trigrames = [tr for tr in finder.ngram_fd.items()]\n",
    "    \n",
    "    language_scores = {lang: 0 for lang in languages}\n",
    "\n",
    "    for tri,freq in trigrames:\n",
    "        for lang in languages:\n",
    "            if tri in dicc[lang]:\n",
    "                language_scores[lang] += dicc[lang][tri]*freq\n",
    "            else:\n",
    "                language_scores[lang] += (probabilitat_suavitzada(l,num_trigrams[lang],0))*freq\n",
    "    \n",
    "    log_language_scores = {lang: math.log(score) for lang, score in language_scores.items() if score > 0}\n",
    "    \n",
    "    return str(max(log_language_scores, key=log_language_scores.get))\n"
   ]
  },
  {
   "cell_type": "markdown",
   "metadata": {},
   "source": [
    "### 3. PREPROCESSAMENT DE LES DADES TEST I PREDICCIÓ"
   ]
  },
  {
   "cell_type": "markdown",
   "metadata": {},
   "source": [
    "Com anteriorment hem fet un cross-validation per aconseguir la lambda millor, li donem com a paràmetre \n",
    "0.1 a la funció entrenar model, també fem un preprocessament i finalment fem les prediccions. "
   ]
  },
  {
   "cell_type": "code",
   "execution_count": 10,
   "metadata": {},
   "outputs": [
    {
     "name": "stdout",
     "output_type": "stream",
     "text": [
      "/Users/annacasanovaspoirier/Desktop/IAA-lab/PRÀCTICA1/deu_tst.txt leyendo\n",
      "/Users/annacasanovaspoirier/Desktop/IAA-lab/PRÀCTICA1/deu_tst.txt se ha leído\n",
      "/Users/annacasanovaspoirier/Desktop/IAA-lab/PRÀCTICA1/eng_tst.txt leyendo\n",
      "/Users/annacasanovaspoirier/Desktop/IAA-lab/PRÀCTICA1/eng_tst.txt se ha leído\n",
      "/Users/annacasanovaspoirier/Desktop/IAA-lab/PRÀCTICA1/fra_tst.txt leyendo\n",
      "/Users/annacasanovaspoirier/Desktop/IAA-lab/PRÀCTICA1/fra_tst.txt se ha leído\n",
      "/Users/annacasanovaspoirier/Desktop/IAA-lab/PRÀCTICA1/nld_tst.txt leyendo\n",
      "/Users/annacasanovaspoirier/Desktop/IAA-lab/PRÀCTICA1/nld_tst.txt se ha leído\n",
      "/Users/annacasanovaspoirier/Desktop/IAA-lab/PRÀCTICA1/ita_tst.txt leyendo\n",
      "/Users/annacasanovaspoirier/Desktop/IAA-lab/PRÀCTICA1/ita_tst.txt se ha leído\n",
      "/Users/annacasanovaspoirier/Desktop/IAA-lab/PRÀCTICA1/spa_tst.txt leyendo\n",
      "/Users/annacasanovaspoirier/Desktop/IAA-lab/PRÀCTICA1/spa_tst.txt se ha leído\n",
      "Porcentaje de identificación correcta: 98.18263667739299%\n"
     ]
    }
   ],
   "source": [
    "import os\n",
    "import re\n",
    "\n",
    "def preprocess_test(text):\n",
    "    text = re.sub(r'\\d', '', text)           # Elimina dígits\n",
    "    text = text.lower()                      # Passa a minúscula\n",
    "    lineas = text.split('\\n')                # Divideix el text en una llista de strings per cada salt de pàgina\n",
    "    lineas_final = [linea.strip() for linea in lineas if linea.strip()]  # Elimina lineas buides i espais extra\n",
    "    return lineas_final\n",
    "\n",
    "def load_and_preprocess_test(file_path, language):\n",
    "    with open(file_path, 'r', encoding='utf-8') as file:\n",
    "        text = file.read()\n",
    "\n",
    "    return preprocess_test(text), [language] * len(preprocess_test(text))\n",
    "\n",
    "directory_path = 'C:/Users/irene/OneDrive/Escriptori/Pràctica 1 PLH' #Directori on són les dades\n",
    "\n",
    "languages = ['deu', 'eng', 'fra', 'nld', 'ita', 'spa']\n",
    "text_processed_list = []                            # Llista amb les frases del test\n",
    "\n",
    "y_true = []                                         # Llista de les etiquetes de veritat de la partició del test\n",
    "y_pred = []                                         # Llista de les etiquetes que el model prediu\n",
    "\n",
    "lam, diccio, num_trigrames = entrenar_model(0.1)    # Entrenem el model aplicant un suavitzat de lambda 1\n",
    "\n",
    "for language in languages:\n",
    "    file_name = language + '_tst.txt'\n",
    "    file_path = os.path.join(directory_path, file_name)\n",
    "    \n",
    "    if os.path.exists(file_path):\n",
    "        text_processed, labels = load_and_preprocess_test(file_path, language)  # Fem el preprocessament\n",
    "        text_processed_list.extend(text_processed)\n",
    "        y_true.extend(labels)                                                   # Apuntem les etiquetes\n",
    "        \n",
    "        for frase in text_processed:\n",
    "            y_pred.append(identificar_idioma(frase, lam, diccio,num_trigrames)) # Fem la predicció\n",
    "    else:\n",
    "        print(f'Arxiu {file_path} no existeix.')\n",
    "\n",
    "total_ben_fetes = sum(1 for true, pred in zip(y_true, y_pred) if true == pred)\n",
    "percentatge = total_ben_fetes / len(y_pred) * 100\n",
    "print(f'Percentatge de mostres identificades correctament: {percentatge}%')\n"
   ]
  },
  {
   "cell_type": "markdown",
   "metadata": {},
   "source": [
    "La lambda anterior s'ha escollit utilitzant un cross validation provant valors entre 0.1 i 1 amb el codi següent:"
   ]
  },
  {
   "cell_type": "code",
   "execution_count": 93,
   "metadata": {},
   "outputs": [
    {
     "name": "stdout",
     "output_type": "stream",
     "text": [
      "Lambda: 0.05, Precisión media de CV: 0.9814095528021637\n",
      "Lambda: 0.1, Precisión media de CV: 0.9814095528021637\n"
     ]
    }
   ],
   "source": [
    "from sklearn.model_selection import KFold\n",
    "from collections import Counter\n",
    "import numpy as np\n",
    "\n",
    "kf = KFold(n_splits=5, shuffle=True, random_state=1)                # Configurem 5 folds per ver cross validation\n",
    "\n",
    "lam_values = [0.05, 0.1, 0.2, 0.3, 0.4, 0.5, 0.6, 0.7, 0.8, 0.9, 1] # Li donem la llista de valors a probar\n",
    "\n",
    "best_lambda = None\n",
    "best_accuracy = 0\n",
    "\n",
    "for l in lam_values:\n",
    "    accuracies = []                                                 # Emmagatzemem les precisions per a cada lambda\n",
    "    \n",
    "\n",
    "    for train_index, test_index in kf.split(text_processed_list):\n",
    "\n",
    "        # Creem el conjunt d'entrenament i el de prova\n",
    "        X_train, X_test = [text_processed_list[i] for i in train_index], [text_processed_list[i] for i in test_index]\n",
    "        y_train, y_test = [y_true[i] for i in train_index], [y_true[i] for i in test_index]\n",
    "        \n",
    "        # Entrenem el model amb la lambda actual\n",
    "        _, trained_model, num_trigrams = entrenar_model(l)\n",
    "        \n",
    "        # Fem les prediccions\n",
    "        y_pred = [identificar_idioma(text, l, trained_model, num_trigrams) for text in X_test]\n",
    "        \n",
    "        # Calculem la precisió\n",
    "        accuracy = sum(1 for true, pred in zip(y_test, y_pred) if true == pred) / len(y_pred)\n",
    "        accuracies.append(accuracy)\n",
    "    \n",
    "    average_accuracy = np.mean(accuracies)\n",
    "    \n",
    "    # Escollim la de millor precisió\n",
    "    if average_accuracy > best_accuracy:\n",
    "        best_accuracy = average_accuracy\n",
    "        best_lambda = l\n",
    "\n",
    "    print(f\"Lambda: {l}, Precisió mitjana del cross-validation: {average_accuracy}\")\n",
    "\n",
    "print(f\"El millor valor de lambda és {best_lambda} amb una precisió de {best_accuracy}\")\n"
   ]
  },
  {
   "cell_type": "markdown",
   "metadata": {},
   "source": [
    "### 4. RESULTATS I ANÀLISI"
   ]
  },
  {
   "cell_type": "markdown",
   "metadata": {},
   "source": [
    "Un cop tenim hem fet el test veiem els resultats. "
   ]
  },
  {
   "cell_type": "markdown",
   "metadata": {},
   "source": [
    "Veiem la matriu de confusió"
   ]
  },
  {
   "cell_type": "code",
   "execution_count": 11,
   "metadata": {},
   "outputs": [
    {
     "name": "stdout",
     "output_type": "stream",
     "text": [
      "Matriu de confusió: \n",
      "[[9825   19   37    7   93    9]\n",
      " [  61 9678  109   28   88   23]\n",
      " [  40   13 9768   22   98   59]\n",
      " [   7    4   34 9853    7   95]\n",
      " [  51   16   18    2 9907    6]\n",
      " [  20    3   36   58   27 9856]]\n"
     ]
    }
   ],
   "source": [
    "from sklearn.metrics import confusion_matrix\n",
    "\n",
    "conf_matrix = confusion_matrix(y_true, y_pred)\n",
    "print(f'Matriu de confusió: \\n{conf_matrix}')"
   ]
  },
  {
   "cell_type": "code",
   "execution_count": 12,
   "metadata": {},
   "outputs": [
    {
     "data": {
      "image/png": "[encoded data removed]",
      "text/plain": [
       "<Figure size 640x480 with 2 Axes>"
      ]
     },
     "metadata": {},
     "output_type": "display_data"
    }
   ],
   "source": [
    "from sklearn.metrics import confusion_matrix, ConfusionMatrixDisplay\n",
    "import matplotlib.pyplot as plt\n",
    "\n",
    "cm = confusion_matrix(y_true, y_pred, labels=[\"deu\", \"eng\", \"fra\", \"nld\", \"ita\", \"spa\"])\n",
    "\n",
    "disp = ConfusionMatrixDisplay(confusion_matrix=cm, display_labels=[\"deu\", \"eng\", \"fra\", \"nld\", \"ita\", \"spa\"])\n",
    "disp.plot(cmap=plt.cm.Blues)\n",
    "plt.title('Matriz de Confusión')\n",
    "plt.show()\n"
   ]
  },
  {
   "cell_type": "markdown",
   "metadata": {},
   "source": [
    "Fem una anàlisi extensa també de la precisió, el recall i el f1 i f2-score"
   ]
  },
  {
   "cell_type": "code",
   "execution_count": 13,
   "metadata": {},
   "outputs": [
    {
     "name": "stdout",
     "output_type": "stream",
     "text": [
      "Accuracy: 0.98182636677393\n",
      "deu - Recall: 0.9834834834834835, F2-Score: 0.9832079096949805\n",
      "eng - Recall: 0.9690597777110244, F2-Score: 0.9740142106640367\n",
      "fra - Recall: 0.9768, F2-Score: 0.9767609295628175\n",
      "nld - Recall: 0.9907, F2-Score: 0.9863600159299083\n",
      "ita - Recall: 0.9853, F2-Score: 0.9858915349209524\n",
      "spa - Recall: 0.9856, F2-Score: 0.9846547314578006\n",
      "\n",
      "              precision    recall  f1-score   support\n",
      "\n",
      "         deu       0.98      0.98      0.98      9990\n",
      "         eng       0.99      0.97      0.98      9987\n",
      "         fra       0.98      0.98      0.98     10000\n",
      "         nld       0.99      0.99      0.99     10000\n",
      "         ita       0.97      0.99      0.98     10000\n",
      "         spa       0.98      0.99      0.98     10000\n",
      "\n",
      "    accuracy                           0.98     59977\n",
      "   macro avg       0.98      0.98      0.98     59977\n",
      "weighted avg       0.98      0.98      0.98     59977\n",
      "\n"
     ]
    }
   ],
   "source": [
    "from sklearn.metrics import accuracy_score, recall_score, fbeta_score, classification_report\n",
    "\n",
    "accuracy = accuracy_score(y_true, y_pred)\n",
    "print(f'Accuracy: {accuracy}')\n",
    "\n",
    "recall = recall_score(y_true, y_pred, average=None, labels=[\"deu\", \"eng\", \"fra\", \"nld\", \"ita\", \"spa\"])\n",
    "f2_score = fbeta_score(y_true, y_pred, beta=2, average=None, labels=[\"deu\", \"eng\", \"fra\", \"nld\", \"ita\", \"spa\"])\n",
    "\n",
    "for i, language in enumerate([\"deu\", \"eng\", \"fra\", \"nld\", \"ita\", \"spa\"]):\n",
    "    print(f'{language} - Recall: {recall[i]}, F2-Score: {f2_score[i]}')\n",
    "\n",
    "print()\n",
    "\n",
    "print(classification_report(y_true, y_pred, target_names=[\"deu\", \"eng\", \"fra\", \"nld\", \"ita\", \"spa\"]))\n"
   ]
  }
 ],
 "metadata": {
  "kernelspec": {
   "display_name": "Python 3",
   "language": "python",
   "name": "python3"
  },
  "language_info": {
   "codemirror_mode": {
    "name": "ipython",
    "version": 3
   },
   "file_extension": ".py",
   "mimetype": "text/x-python",
   "name": "python",
   "nbconvert_exporter": "python",
   "pygments_lexer": "ipython3",
   "version": "3.10.11"
  }
 },
 "nbformat": 4,
 "nbformat_minor": 2
}
